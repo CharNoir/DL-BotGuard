{
 "cells": [
  {
   "cell_type": "markdown",
   "id": "7a58fa49",
   "metadata": {},
   "source": [
    "# 02 — Data Preparation and Splitting\n",
    "\n",
    "In this notebook we:\n",
    "- Preprocess mouse dynamics data from two sources:\n",
    "  - **PMC dataset (Boun Mouse Dynamics)** — public dataset.\n",
    "  - **OUR dataset** — collected locally using the logging script.\n",
    "- Engineer features (Δx, Δy, Δt, speed).\n",
    "- Split into **train/validation/test** sets.\n",
    "- Demonstrate a baseline model training."
   ]
  },
  {
   "cell_type": "code",
   "execution_count": null,
   "id": "abeb029d",
   "metadata": {},
   "outputs": [],
   "source": [
    "import numpy as np\n",
    "import pandas as pd\n",
    "from pathlib import Path\n",
    "from sklearn.model_selection import train_test_split\n",
    "import json\n",
    "import glob\n",
    "import matplotlib.pyplot as plt"
   ]
  },
  {
   "cell_type": "markdown",
   "id": "72edbf26",
   "metadata": {},
   "source": [
    "## 1. Helper Functions\n",
    "\n",
    "We define reusable helpers for:\n",
    "- Feature engineering (`add_deltas`).\n",
    "- Splitting sessions into segments (`sessionize`).\n",
    "- Building sequences of fixed length for deep learning.\n",
    "- Constructing labeled datasets from sessions."
   ]
  },
  {
   "cell_type": "code",
   "execution_count": 2,
   "id": "e1c988c6",
   "metadata": {},
   "outputs": [],
   "source": [
    "def add_deltas(df, xcol=\"x\", ycol=\"y\", tcol=\"timestamp_ms\"):\n",
    "    df = df.copy()\n",
    "    df[\"dt\"] = df[tcol].diff().fillna(1).clip(lower=1)\n",
    "    df[\"dx\"] = df[xcol].diff().fillna(0)\n",
    "    df[\"dy\"] = df[ycol].diff().fillna(0)\n",
    "    df[\"speed\"] = np.sqrt(df[\"dx\"]**2 + df[\"dy\"]**2) / df[\"dt\"]\n",
    "    return df\n",
    "\n",
    "def sessionize(df, tcol=\"timestamp_ms\", gap_ms=5*60*1000):\n",
    "    df = df.sort_values(tcol).copy()\n",
    "    df[\"gap\"] = df[tcol].diff().fillna(0)\n",
    "    df[\"session_id\"] = (df[\"gap\"] > gap_ms).cumsum()\n",
    "    return df\n",
    "\n",
    "def build_sequence(df, seq_len=128, cols=(\"dx\",\"dy\",\"dt\",\"speed\")):\n",
    "    feats = df[list(cols)].replace([np.inf,-np.inf],0).fillna(0).to_numpy()\n",
    "    if len(feats) >= seq_len:\n",
    "        return feats[-seq_len:]\n",
    "    else:\n",
    "        pad = np.zeros((seq_len - len(feats), feats.shape[1]))\n",
    "        return np.vstack([pad, feats])\n",
    "\n",
    "def make_dataset(df, label, seq_len=128):\n",
    "    X, y = [], []\n",
    "    for sid, g in df.groupby(\"session_id\"):\n",
    "        seq = build_sequence(g, seq_len=seq_len)\n",
    "        X.append(seq)\n",
    "        y.append(label)\n",
    "    return np.array(X), np.array(y)"
   ]
  },
  {
   "cell_type": "markdown",
   "id": "8d919b83",
   "metadata": {},
   "source": [
    "## 2. PMC Dataset Loading"
   ]
  },
  {
   "cell_type": "markdown",
   "id": "c93ca581",
   "metadata": {},
   "source": [
    "Demo with 10 sessions"
   ]
  },
  {
   "cell_type": "code",
   "execution_count": 8,
   "id": "ba908953",
   "metadata": {},
   "outputs": [
    {
     "name": "stdout",
     "output_type": "stream",
     "text": [
      "PMC shape: (53712, 3)\n"
     ]
    },
    {
     "data": {
      "text/html": [
       "<div>\n",
       "<style scoped>\n",
       "    .dataframe tbody tr th:only-of-type {\n",
       "        vertical-align: middle;\n",
       "    }\n",
       "\n",
       "    .dataframe tbody tr th {\n",
       "        vertical-align: top;\n",
       "    }\n",
       "\n",
       "    .dataframe thead th {\n",
       "        text-align: right;\n",
       "    }\n",
       "</style>\n",
       "<table border=\"1\" class=\"dataframe\">\n",
       "  <thead>\n",
       "    <tr style=\"text-align: right;\">\n",
       "      <th></th>\n",
       "      <th>timestamp_ms</th>\n",
       "      <th>x</th>\n",
       "      <th>y</th>\n",
       "    </tr>\n",
       "  </thead>\n",
       "  <tbody>\n",
       "    <tr>\n",
       "      <th>0</th>\n",
       "      <td>1.563886e+09</td>\n",
       "      <td>827</td>\n",
       "      <td>198</td>\n",
       "    </tr>\n",
       "    <tr>\n",
       "      <th>1</th>\n",
       "      <td>1.563886e+09</td>\n",
       "      <td>827</td>\n",
       "      <td>200</td>\n",
       "    </tr>\n",
       "    <tr>\n",
       "      <th>2</th>\n",
       "      <td>1.563886e+09</td>\n",
       "      <td>825</td>\n",
       "      <td>200</td>\n",
       "    </tr>\n",
       "    <tr>\n",
       "      <th>3</th>\n",
       "      <td>1.563886e+09</td>\n",
       "      <td>821</td>\n",
       "      <td>204</td>\n",
       "    </tr>\n",
       "    <tr>\n",
       "      <th>4</th>\n",
       "      <td>1.563886e+09</td>\n",
       "      <td>819</td>\n",
       "      <td>206</td>\n",
       "    </tr>\n",
       "  </tbody>\n",
       "</table>\n",
       "</div>"
      ],
      "text/plain": [
       "   timestamp_ms    x    y\n",
       "0  1.563886e+09  827  198\n",
       "1  1.563886e+09  827  200\n",
       "2  1.563886e+09  825  200\n",
       "3  1.563886e+09  821  204\n",
       "4  1.563886e+09  819  206"
      ]
     },
     "execution_count": 8,
     "metadata": {},
     "output_type": "execute_result"
    }
   ],
   "source": [
    "pmc_files = glob.glob(\"../data/raw/boun-mouse-dynamics-dataset/users/*/*/*.csv\")\n",
    "\n",
    "frames = []\n",
    "for f in pmc_files[:10]:\n",
    "    df = pd.read_csv(f)\n",
    "    if \"client_timestamp\" in df.columns:\n",
    "        df.rename(columns={\"client_timestamp\": \"timestamp_ms\"}, inplace=True)\n",
    "    frames.append(df[[\"timestamp_ms\",\"x\",\"y\"]])\n",
    "\n",
    "pmc = pd.concat(frames, ignore_index=True)\n",
    "print(\"PMC shape:\", pmc.shape)\n",
    "pmc.head()"
   ]
  },
  {
   "cell_type": "code",
   "execution_count": null,
   "id": "762c1194",
   "metadata": {},
   "outputs": [
    {
     "name": "stdout",
     "output_type": "stream",
     "text": [
      "PMC dataset shapes: (7, 128, 4) (7,)\n"
     ]
    }
   ],
   "source": [
    "pmc_proc = add_deltas(pmc, xcol=\"x\", ycol=\"y\", tcol=\"timestamp_ms\")\n",
    "pmc_proc = sessionize(pmc_proc, tcol=\"timestamp_ms\")\n",
    "\n",
    "X_pmc, y_pmc = make_dataset(pmc_proc, label=0, seq_len=128)\n",
    "\n",
    "print(\"PMC dataset shapes:\", X_pmc.shape, y_pmc.shape)\n"
   ]
  },
  {
   "cell_type": "code",
   "execution_count": 12,
   "id": "2836adfd",
   "metadata": {},
   "outputs": [
    {
     "name": "stdout",
     "output_type": "stream",
     "text": [
      "PMC Train: (4, 128, 4) Val: (1, 128, 4) Test: (2, 128, 4)\n"
     ]
    }
   ],
   "source": [
    "# Split\n",
    "X_train_pmc, X_tmp_pmc, y_train_pmc, y_tmp_pmc = train_test_split(\n",
    "    X_pmc, y_pmc, test_size=0.30, stratify=y_pmc, random_state=42\n",
    ")\n",
    "X_val_pmc, X_test_pmc, y_val_pmc, y_test_pmc = train_test_split(\n",
    "    X_tmp_pmc, y_tmp_pmc, test_size=0.50, stratify=y_tmp_pmc, random_state=42\n",
    ")\n",
    "\n",
    "print(\"PMC Train:\", X_train_pmc.shape,\n",
    "      \"Val:\", X_val_pmc.shape,\n",
    "      \"Test:\", X_test_pmc.shape)"
   ]
  },
  {
   "cell_type": "markdown",
   "id": "d2d85651",
   "metadata": {},
   "source": [
    "## 3. OUR Dataset Loading"
   ]
  },
  {
   "cell_type": "code",
   "execution_count": 10,
   "id": "fcd41ff6",
   "metadata": {},
   "outputs": [
    {
     "name": "stdout",
     "output_type": "stream",
     "text": [
      "OUR shape: (155012, 3)\n"
     ]
    },
    {
     "data": {
      "text/html": [
       "<div>\n",
       "<style scoped>\n",
       "    .dataframe tbody tr th:only-of-type {\n",
       "        vertical-align: middle;\n",
       "    }\n",
       "\n",
       "    .dataframe tbody tr th {\n",
       "        vertical-align: top;\n",
       "    }\n",
       "\n",
       "    .dataframe thead th {\n",
       "        text-align: right;\n",
       "    }\n",
       "</style>\n",
       "<table border=\"1\" class=\"dataframe\">\n",
       "  <thead>\n",
       "    <tr style=\"text-align: right;\">\n",
       "      <th></th>\n",
       "      <th>timestamp_ms</th>\n",
       "      <th>x</th>\n",
       "      <th>y</th>\n",
       "    </tr>\n",
       "  </thead>\n",
       "  <tbody>\n",
       "    <tr>\n",
       "      <th>0</th>\n",
       "      <td>1760684986648</td>\n",
       "      <td>1108</td>\n",
       "      <td>546</td>\n",
       "    </tr>\n",
       "    <tr>\n",
       "      <th>1</th>\n",
       "      <td>1760684986653</td>\n",
       "      <td>1094</td>\n",
       "      <td>534</td>\n",
       "    </tr>\n",
       "    <tr>\n",
       "      <th>2</th>\n",
       "      <td>1760684986659</td>\n",
       "      <td>1079</td>\n",
       "      <td>519</td>\n",
       "    </tr>\n",
       "    <tr>\n",
       "      <th>3</th>\n",
       "      <td>1760684986666</td>\n",
       "      <td>1069</td>\n",
       "      <td>507</td>\n",
       "    </tr>\n",
       "    <tr>\n",
       "      <th>4</th>\n",
       "      <td>1760684986674</td>\n",
       "      <td>1060</td>\n",
       "      <td>495</td>\n",
       "    </tr>\n",
       "  </tbody>\n",
       "</table>\n",
       "</div>"
      ],
      "text/plain": [
       "    timestamp_ms     x    y\n",
       "0  1760684986648  1108  546\n",
       "1  1760684986653  1094  534\n",
       "2  1760684986659  1079  519\n",
       "3  1760684986666  1069  507\n",
       "4  1760684986674  1060  495"
      ]
     },
     "execution_count": 10,
     "metadata": {},
     "output_type": "execute_result"
    }
   ],
   "source": [
    "our_files = glob.glob(\"../data/raw/our/v1/mouse_events_*.jsonl\")\n",
    "\n",
    "frames = []\n",
    "for f in our_files:\n",
    "    df = pd.read_json(f, lines=True)\n",
    "    df.rename(columns={\n",
    "        \"wall_time_ms\": \"timestamp_ms\",\n",
    "        \"x_screen\": \"x\",\n",
    "        \"y_screen\": \"y\"\n",
    "    }, inplace=True)\n",
    "    frames.append(df[[\"timestamp_ms\",\"x\",\"y\"]])\n",
    "\n",
    "our = pd.concat(frames, ignore_index=True)\n",
    "print(\"OUR shape:\", our.shape)\n",
    "our.head()\n"
   ]
  },
  {
   "cell_type": "code",
   "execution_count": null,
   "id": "7046785e",
   "metadata": {},
   "outputs": [
    {
     "name": "stdout",
     "output_type": "stream",
     "text": [
      "OUR dataset shapes: (9, 128, 4) (9,)\n"
     ]
    }
   ],
   "source": [
    "our_proc = add_deltas(our, xcol=\"x\", ycol=\"y\", tcol=\"timestamp_ms\")\n",
    "our_proc = sessionize(our_proc, tcol=\"timestamp_ms\")\n",
    "\n",
    "X_our, y_our = make_dataset(our_proc, label=0, seq_len=128)\n",
    "\n",
    "print(\"OUR dataset shapes:\", X_our.shape, y_our.shape)\n"
   ]
  },
  {
   "cell_type": "code",
   "execution_count": 13,
   "id": "584ab5f1",
   "metadata": {},
   "outputs": [
    {
     "name": "stdout",
     "output_type": "stream",
     "text": [
      "OUR Train: (6, 128, 4) Val: (1, 128, 4) Test: (2, 128, 4)\n"
     ]
    }
   ],
   "source": [
    "# Split\n",
    "X_train_our, X_tmp_our, y_train_our, y_tmp_our = train_test_split(\n",
    "    X_our, y_our, test_size=0.30, stratify=y_our, random_state=42\n",
    ")\n",
    "X_val_our, X_test_our, y_val_our, y_test_our = train_test_split(\n",
    "    X_tmp_our, y_tmp_our, test_size=0.50, stratify=y_tmp_our, random_state=42\n",
    ")\n",
    "\n",
    "print(\"OUR Train:\", X_train_our.shape,\n",
    "      \"Val:\", X_val_our.shape,\n",
    "      \"Test:\", X_test_our.shape)"
   ]
  },
  {
   "cell_type": "markdown",
   "id": "bca32700",
   "metadata": {},
   "source": [
    "## 6. Baseline Model Training (Demo)"
   ]
  },
  {
   "cell_type": "code",
   "execution_count": null,
   "id": "cf544b7b",
   "metadata": {},
   "outputs": [
    {
     "data": {
      "text/html": [
       "<pre style=\"white-space:pre;overflow-x:auto;line-height:normal;font-family:Menlo,'DejaVu Sans Mono',consolas,'Courier New',monospace\"><span style=\"font-weight: bold\">Model: \"sequential_2\"</span>\n",
       "</pre>\n"
      ],
      "text/plain": [
       "\u001b[1mModel: \"sequential_2\"\u001b[0m\n"
      ]
     },
     "metadata": {},
     "output_type": "display_data"
    },
    {
     "data": {
      "text/html": [
       "<pre style=\"white-space:pre;overflow-x:auto;line-height:normal;font-family:Menlo,'DejaVu Sans Mono',consolas,'Courier New',monospace\">┏━━━━━━━━━━━━━━━━━━━━━━━━━━━━━━━━━┳━━━━━━━━━━━━━━━━━━━━━━━━┳━━━━━━━━━━━━━━━┓\n",
       "┃<span style=\"font-weight: bold\"> Layer (type)                    </span>┃<span style=\"font-weight: bold\"> Output Shape           </span>┃<span style=\"font-weight: bold\">       Param # </span>┃\n",
       "┡━━━━━━━━━━━━━━━━━━━━━━━━━━━━━━━━━╇━━━━━━━━━━━━━━━━━━━━━━━━╇━━━━━━━━━━━━━━━┩\n",
       "│ flatten_2 (<span style=\"color: #0087ff; text-decoration-color: #0087ff\">Flatten</span>)             │ (<span style=\"color: #00d7ff; text-decoration-color: #00d7ff\">None</span>, <span style=\"color: #00af00; text-decoration-color: #00af00\">512</span>)            │             <span style=\"color: #00af00; text-decoration-color: #00af00\">0</span> │\n",
       "├─────────────────────────────────┼────────────────────────┼───────────────┤\n",
       "│ dense_4 (<span style=\"color: #0087ff; text-decoration-color: #0087ff\">Dense</span>)                 │ (<span style=\"color: #00d7ff; text-decoration-color: #00d7ff\">None</span>, <span style=\"color: #00af00; text-decoration-color: #00af00\">32</span>)             │        <span style=\"color: #00af00; text-decoration-color: #00af00\">16,416</span> │\n",
       "├─────────────────────────────────┼────────────────────────┼───────────────┤\n",
       "│ dense_5 (<span style=\"color: #0087ff; text-decoration-color: #0087ff\">Dense</span>)                 │ (<span style=\"color: #00d7ff; text-decoration-color: #00d7ff\">None</span>, <span style=\"color: #00af00; text-decoration-color: #00af00\">1</span>)              │            <span style=\"color: #00af00; text-decoration-color: #00af00\">33</span> │\n",
       "└─────────────────────────────────┴────────────────────────┴───────────────┘\n",
       "</pre>\n"
      ],
      "text/plain": [
       "┏━━━━━━━━━━━━━━━━━━━━━━━━━━━━━━━━━┳━━━━━━━━━━━━━━━━━━━━━━━━┳━━━━━━━━━━━━━━━┓\n",
       "┃\u001b[1m \u001b[0m\u001b[1mLayer (type)                   \u001b[0m\u001b[1m \u001b[0m┃\u001b[1m \u001b[0m\u001b[1mOutput Shape          \u001b[0m\u001b[1m \u001b[0m┃\u001b[1m \u001b[0m\u001b[1m      Param #\u001b[0m\u001b[1m \u001b[0m┃\n",
       "┡━━━━━━━━━━━━━━━━━━━━━━━━━━━━━━━━━╇━━━━━━━━━━━━━━━━━━━━━━━━╇━━━━━━━━━━━━━━━┩\n",
       "│ flatten_2 (\u001b[38;5;33mFlatten\u001b[0m)             │ (\u001b[38;5;45mNone\u001b[0m, \u001b[38;5;34m512\u001b[0m)            │             \u001b[38;5;34m0\u001b[0m │\n",
       "├─────────────────────────────────┼────────────────────────┼───────────────┤\n",
       "│ dense_4 (\u001b[38;5;33mDense\u001b[0m)                 │ (\u001b[38;5;45mNone\u001b[0m, \u001b[38;5;34m32\u001b[0m)             │        \u001b[38;5;34m16,416\u001b[0m │\n",
       "├─────────────────────────────────┼────────────────────────┼───────────────┤\n",
       "│ dense_5 (\u001b[38;5;33mDense\u001b[0m)                 │ (\u001b[38;5;45mNone\u001b[0m, \u001b[38;5;34m1\u001b[0m)              │            \u001b[38;5;34m33\u001b[0m │\n",
       "└─────────────────────────────────┴────────────────────────┴───────────────┘\n"
      ]
     },
     "metadata": {},
     "output_type": "display_data"
    },
    {
     "data": {
      "text/html": [
       "<pre style=\"white-space:pre;overflow-x:auto;line-height:normal;font-family:Menlo,'DejaVu Sans Mono',consolas,'Courier New',monospace\"><span style=\"font-weight: bold\"> Total params: </span><span style=\"color: #00af00; text-decoration-color: #00af00\">16,449</span> (64.25 KB)\n",
       "</pre>\n"
      ],
      "text/plain": [
       "\u001b[1m Total params: \u001b[0m\u001b[38;5;34m16,449\u001b[0m (64.25 KB)\n"
      ]
     },
     "metadata": {},
     "output_type": "display_data"
    },
    {
     "data": {
      "text/html": [
       "<pre style=\"white-space:pre;overflow-x:auto;line-height:normal;font-family:Menlo,'DejaVu Sans Mono',consolas,'Courier New',monospace\"><span style=\"font-weight: bold\"> Trainable params: </span><span style=\"color: #00af00; text-decoration-color: #00af00\">16,449</span> (64.25 KB)\n",
       "</pre>\n"
      ],
      "text/plain": [
       "\u001b[1m Trainable params: \u001b[0m\u001b[38;5;34m16,449\u001b[0m (64.25 KB)\n"
      ]
     },
     "metadata": {},
     "output_type": "display_data"
    },
    {
     "data": {
      "text/html": [
       "<pre style=\"white-space:pre;overflow-x:auto;line-height:normal;font-family:Menlo,'DejaVu Sans Mono',consolas,'Courier New',monospace\"><span style=\"font-weight: bold\"> Non-trainable params: </span><span style=\"color: #00af00; text-decoration-color: #00af00\">0</span> (0.00 B)\n",
       "</pre>\n"
      ],
      "text/plain": [
       "\u001b[1m Non-trainable params: \u001b[0m\u001b[38;5;34m0\u001b[0m (0.00 B)\n"
      ]
     },
     "metadata": {},
     "output_type": "display_data"
    }
   ],
   "source": [
    "import tensorflow as tf\n",
    "from tensorflow.keras import layers, models\n",
    "\n",
    "seq_len = X_train_our.shape[1]\n",
    "num_features = X_train_our.shape[2]\n",
    "\n",
    "model = models.Sequential([\n",
    "    layers.Input(shape=(seq_len, num_features)),\n",
    "    layers.Flatten(),\n",
    "    layers.Dense(32, activation=\"relu\"),\n",
    "    layers.Dense(1, activation=\"sigmoid\")\n",
    "])\n",
    "\n",
    "model.compile(optimizer=\"adam\", loss=\"binary_crossentropy\", metrics=[\"accuracy\"])\n",
    "model.summary()\n"
   ]
  },
  {
   "cell_type": "code",
   "execution_count": 43,
   "id": "5c530873",
   "metadata": {},
   "outputs": [
    {
     "name": "stdout",
     "output_type": "stream",
     "text": [
      "Epoch 1/5\n",
      "\u001b[1m1/1\u001b[0m \u001b[32m━━━━━━━━━━━━━━━━━━━━\u001b[0m\u001b[37m\u001b[0m \u001b[1m0s\u001b[0m 425ms/step - accuracy: 0.6667 - loss: 48.6629 - val_accuracy: 0.0000e+00 - val_loss: 762.1984\n",
      "Epoch 2/5\n",
      "\u001b[1m1/1\u001b[0m \u001b[32m━━━━━━━━━━━━━━━━━━━━\u001b[0m\u001b[37m\u001b[0m \u001b[1m0s\u001b[0m 29ms/step - accuracy: 0.6667 - loss: 1.6130 - val_accuracy: 0.0000e+00 - val_loss: 696.9526\n",
      "Epoch 3/5\n",
      "\u001b[1m1/1\u001b[0m \u001b[32m━━━━━━━━━━━━━━━━━━━━\u001b[0m\u001b[37m\u001b[0m \u001b[1m0s\u001b[0m 27ms/step - accuracy: 1.0000 - loss: 3.6813e-08 - val_accuracy: 0.0000e+00 - val_loss: 646.4330\n",
      "Epoch 4/5\n",
      "\u001b[1m1/1\u001b[0m \u001b[32m━━━━━━━━━━━━━━━━━━━━\u001b[0m\u001b[37m\u001b[0m \u001b[1m0s\u001b[0m 28ms/step - accuracy: 1.0000 - loss: 3.2475e-09 - val_accuracy: 0.0000e+00 - val_loss: 605.0789\n",
      "Epoch 5/5\n",
      "\u001b[1m1/1\u001b[0m \u001b[32m━━━━━━━━━━━━━━━━━━━━\u001b[0m\u001b[37m\u001b[0m \u001b[1m0s\u001b[0m 28ms/step - accuracy: 1.0000 - loss: 4.8001e-10 - val_accuracy: 0.0000e+00 - val_loss: 570.1461\n",
      "OUR dataset → Test accuracy: 1.000\n"
     ]
    }
   ],
   "source": [
    "history = model.fit(\n",
    "    X_train_our, y_train_our,\n",
    "    validation_data=(X_val_our, y_val_our),\n",
    "    epochs=5,\n",
    "    batch_size=32,\n",
    "    verbose=1\n",
    ")\n",
    "\n",
    "test_loss, test_acc = model.evaluate(X_test_our, y_test_our, verbose=0)\n",
    "print(f\"OUR dataset → Test accuracy: {test_acc:.3f}\")"
   ]
  }
 ],
 "metadata": {
  "kernelspec": {
   "display_name": "Python 3",
   "language": "python",
   "name": "python3"
  },
  "language_info": {
   "codemirror_mode": {
    "name": "ipython",
    "version": 3
   },
   "file_extension": ".py",
   "mimetype": "text/x-python",
   "name": "python",
   "nbconvert_exporter": "python",
   "pygments_lexer": "ipython3",
   "version": "3.12.6"
  }
 },
 "nbformat": 4,
 "nbformat_minor": 5
}
